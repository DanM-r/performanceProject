{
 "cells": [
  {
   "cell_type": "markdown",
   "metadata": {},
   "source": [
    "# Project of Performance and Experimentation Course\n",
    "\n",
    "This is a practical project involving a procedure of measurement, analysis and experimentation of systems for the purpose to find possible ways to increase performance in time or space axis.\n",
    "\n",
    "## Introduction and Topic of the project\n",
    "\n",
    "The main idea for this project is to measure the performance between linux with its compatability layer Proton made by Valve Corporation and windows gaming; specifically for the games \"Fallout: New Vegas\" and \"Factorio\". Linux gaming has improved over the years thanks to the invention of Proton, a compatability tool created by Valve Software that allows games run on linux in a simple way eventhough the game was not done for the operating system. The protonDB page gathers reports of users of the overall stability and issues using the Proton tool. For each game it has a rating designated based on a specific criteria, the different ratings are:\n",
    "\n",
    "- Native: the game has a linux version which does not requires a compatability tool such as Proton\n",
    "- Platinum: runs perfectly out of the box\n",
    "- Gold: runs perfectly after tweaks\n",
    "- Silver: runs with minor issues, but generally is playable\n",
    "- Bronze: runs, but often crashes or has issues preventing from playing comfortably\n",
    "- Borked: game either won't start or is crucially unplayable\n",
    "\n",
    "For the games that are gonna be used for this experiment, \"Fallout: New Vegas\" has a gold rating and \"Factorio\" has a native rating, which means these games can be runned on the linux operating system, in the case with Fallout, it might require some tweaks in the configuration files and launch options to be able to run. The ratings for both games are provided below:\n",
    "\n",
    "- [Fallout: New Vegas](https://www.protondb.com/app/22380)\n",
    "- [Factorio](https://www.protondb.com/app/427520)\n",
    "\n",
    "The machine that's gonna be used for the experiment is a PC with the next hardware specifications:\n",
    "\n",
    "- Processor: AMD Ryzen 7 5800x\n",
    "- Memory: 32 GB DDR4\n",
    "- Storage: SSD M.2 Adata Legend 800 2TB PCIe Gen4\n",
    "- Graphics: Nvidia GeForce RTX 3070\n",
    "\n",
    "As well, the software specifications comparing both operating systems are:\n",
    "\n",
    "- Windows 11 (has a few tweaks for better perfomance and less bloat)\n",
    "- Fedora 40 linux with KDE desktop environment\n"
   ]
  },
  {
   "cell_type": "markdown",
   "metadata": {},
   "source": [
    "## Controllable factors\n",
    "\n",
    "- Operating system version\n",
    "\n",
    "- Desktop environment\n",
    "\n",
    "- Active processes\n",
    "\n",
    "- Game version\n",
    "\n",
    "- Game resolution\n",
    "\n",
    "- Game graphics quality\n",
    "\n",
    "- Game texture size\n",
    "\n",
    "- Game memory usage\n",
    "\n",
    "- Max render threads\n",
    "\n",
    "- Aspect Ratio\n",
    "\n",
    "- Distance LOD\n",
    "\n",
    "- Stage of the game: this factor means how advanced a player is in the game, for some games like Factorio, machines and processes inside the game start to stack together making the game take more resources and processing.\n",
    "\n",
    "## Not controllable factors\n",
    "\n",
    "- External temperature\n",
    "\n",
    "- Scheduler algorithm\n",
    "\n",
    "- Factory defects and general hardware damage\n",
    "\n",
    "- Errors and crashes: for the \"Fallout: New Vegas\", the game publisher Bethesda (n.d.) recognizes that the game can be slightly unstable and might crash in some situations. This problems are not fault of the user, and there's nothing much to do about it that doesn't adds a modification of the game which affects it's performance in some degree.\n",
    "\n",
    "- Resource assignment\n",
    "\n",
    "## Studied factors\n",
    "\n",
    "- Game resolution and aspect ratio\n",
    "\n",
    "- Game graphics quality\n"
   ]
  },
  {
   "cell_type": "markdown",
   "metadata": {},
   "source": [
    "## Response Variables\n",
    "\n",
    "- Game frame rate\n",
    "\n",
    "- Game CPU, GPU and memory usage\n"
   ]
  },
  {
   "cell_type": "markdown",
   "metadata": {},
   "source": [
    "## Levels and Treatments\n",
    "\n",
    "### Treatments for Fallout: New Vegas\n",
    "\n",
    "For the aspect ratio, there are only 2 options which is the standard 4:3 or 5:4, and the widescreen that is 16:9. The resolution has many options, but because my monitor has its limit to 1920x1080, that will be the maximum resolution available, and the rest will be choosen based on how frequent it's to find someone with a monitor with that exact resolution: 1440x810 and 1680x945. Then the quality of the game graphics there's only 4: Low, medium, high and ultra, because this game is not that heavy in graphic processing, we can only use the high and ultra quality. In total, there will be 6 treatments with 2 levels each.\n",
    "\n",
    "### Treatments for Factorio\n",
    "\n",
    "The game doesn't gives a way to set up a resolution, that's because it takes the whole screen, which in my case is 1920x1080 resolution. However, it gives more options to the player for texture quality and graphic processing. These are the sprite resolution that can be set to high or normal, in this case it will not change and be static to high. The max number of threads that for now it uses as default 8 threads to render the game; this is the most important variable because as the game progresses it will require more processing, for the purpose of this experiment, the set of number of threads to use will be 4, 8 and 16. The video memory usage which can be set to all, high, medium and low; for the purpose of this investigation it will only be set to all and high. And Texture compression that can be set to high quality and low quality, as well this won't be changed and will remain in high quality compression. This gives a total of 6 treatments with 3 levels each.\n"
   ]
  },
  {
   "cell_type": "markdown",
   "metadata": {},
   "source": [
    "## References\n",
    "\n",
    "ProtonDB. (n.d.) ProtonDB main page. https://www.protondb.com/\n",
    "\n",
    "Bethesda Support. (n.d.). What do I do if Fallout: New Vegas is crashing on my PC?. https://help.bethesda.net/#en/answer/35756\n",
    "\n",
    "## Credits\n",
    "\n",
    "Done by Daniel Mora Rodriguez (C25200), student of the Universidad de Costa Rica, Escuela de Ciencias de la Computacion e Informatica for the second semester of  2024."
   ]
  },
  {
   "cell_type": "code",
   "execution_count": null,
   "metadata": {},
   "outputs": [],
   "source": []
  }
 ],
 "metadata": {
  "kernelspec": {
   "display_name": "Python 3 (ipykernel)",
   "language": "python",
   "name": "python3"
  },
  "language_info": {
   "codemirror_mode": {
    "name": "ipython",
    "version": 3
   },
   "file_extension": ".py",
   "mimetype": "text/x-python",
   "name": "python",
   "nbconvert_exporter": "python",
   "pygments_lexer": "ipython3",
   "version": "3.12.5"
  }
 },
 "nbformat": 4,
 "nbformat_minor": 4
}
