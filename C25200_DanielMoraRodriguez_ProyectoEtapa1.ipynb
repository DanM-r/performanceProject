{
 "cells": [
  {
   "cell_type": "markdown",
   "metadata": {},
   "source": [
    "# Project of Performance and Experimentation Course\n",
    "\n",
    "This is a practical project involving a procedure of measurement, analysis and experimentation of systems for the purpose to find possible ways to increase performance in time or space axis.\n",
    "\n",
    "## Credits\n",
    "\n",
    "Done by Daniel Mora Rodriguez (C25200), student of the Universidad de Costa Rica, Escuela de Ciencias de la Computacion e Informatica for the second semester of  2024."
   ]
  }
 ],
 "metadata": {
  "language_info": {
   "name": "python"
  }
 },
 "nbformat": 4,
 "nbformat_minor": 2
}
